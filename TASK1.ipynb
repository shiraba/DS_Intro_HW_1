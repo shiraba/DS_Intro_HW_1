{
 "cells": [
  {
   "cell_type": "markdown",
   "id": "1fc00411",
   "metadata": {},
   "source": [
    "# Assignment1\n"
   ]
  },
  {
   "cell_type": "markdown",
   "id": "e6d9eb44",
   "metadata": {},
   "source": [
    "A"
   ]
  },
  {
   "cell_type": "code",
   "execution_count": 29,
   "id": "71fc1996",
   "metadata": {},
   "outputs": [
    {
     "name": "stdout",
     "output_type": "stream",
     "text": [
      "Not a number – denominator equals zero\n",
      "None\n",
      "Error: parameters should be float\n",
      "None\n",
      "4.51\n"
     ]
    }
   ],
   "source": [
    "def func(x1,x2,x3):\n",
    "    try:\n",
    "       \n",
    "        Numerator=(x1+x2+x3)+(x2+x3)*x3\n",
    "        denominator=(x1+x2+x3)\n",
    "        if denominator==0:\n",
    "            print(\"Not a number – denominator equals zero\")\n",
    "        elif type(x1)and type(x2)and type(x3)!= float:            \n",
    "            print(\"Error: parameters should be float\")\n",
    "        else:\n",
    "            result=Numerator/denominator\n",
    "            return float(result)\n",
    "\n",
    "    except:\n",
    "        print(\"Error: parameters should be float\")           \n",
    "            \n",
    "        \n",
    "#testing       \n",
    "print(func(2,-2,0))\n",
    "print(func(3,4,0))\n",
    "print(func(2.2,3.3,4.5))\n",
    " \n",
    "\n",
    "    "
   ]
  },
  {
   "cell_type": "markdown",
   "id": "f67e2a98",
   "metadata": {},
   "source": [
    "B"
   ]
  },
  {
   "cell_type": "code",
   "execution_count": 54,
   "id": "2df88d32",
   "metadata": {},
   "outputs": [
    {
     "name": "stdout",
     "output_type": "stream",
     "text": [
      "18180\n",
      "Input error!\n",
      "None\n",
      "Input error!\n",
      "None\n",
      "Input error!\n",
      "None\n",
      "6300.0\n"
     ]
    }
   ],
   "source": [
    "def convert(hours, minutes=0):\n",
    "    \n",
    "    h=hours*3600\n",
    "    m=minutes*60\n",
    "    if hours<0 or minutes<0:\n",
    "        print(\"Input error!\")  \n",
    "    else: \n",
    "       num_of_second=h+m\n",
    "       return num_of_second\n",
    " #testing\n",
    "print(convert(5,3))         \n",
    "print(convert(5,-2))         \n",
    "print(convert(-5,2))  \n",
    "print(convert(-5,-2))  \n",
    "print(convert(1.75))  \n",
    "\n"
   ]
  },
  {
   "cell_type": "code",
   "execution_count": null,
   "id": "9deee38b",
   "metadata": {},
   "outputs": [],
   "source": []
  }
 ],
 "metadata": {
  "kernelspec": {
   "display_name": "Python 3 (ipykernel)",
   "language": "python",
   "name": "python3"
  },
  "language_info": {
   "codemirror_mode": {
    "name": "ipython",
    "version": 3
   },
   "file_extension": ".py",
   "mimetype": "text/x-python",
   "name": "python",
   "nbconvert_exporter": "python",
   "pygments_lexer": "ipython3",
   "version": "3.9.7"
  }
 },
 "nbformat": 4,
 "nbformat_minor": 5
}
